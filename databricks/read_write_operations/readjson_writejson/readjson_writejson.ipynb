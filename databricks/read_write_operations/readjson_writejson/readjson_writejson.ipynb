{
 "cells": [
  {
   "cell_type": "code",
   "execution_count": 0,
   "metadata": {
    "application/vnd.databricks.v1+cell": {
     "cellMetadata": {
      "byteLimit": 2048000,
      "rowLimit": 10000
     },
     "inputWidgets": {},
     "nuid": "d71e4a3f-6096-4319-b72d-1353a3df712a",
     "showTitle": false,
     "title": ""
    }
   },
   "outputs": [
    {
     "output_type": "stream",
     "name": "stdout",
     "output_type": "stream",
     "text": [
      "+-----------------------------------------------+----+---------------------+\n|employees                                      |id  |properties           |\n+-----------------------------------------------+----+---------------------+\n|[{1001, Divesh}, {1002, Rajesh}, {1003, David}]|1001|{ABC Pvt Ltd, Medium}|\n+-----------------------------------------------+----+---------------------+\n\n"
     ]
    }
   ],
   "source": [
    "df = spark.read.json(path=\"dbfs:/FileStore/tables/sample_json_3.json\",multiLine=True)\n",
    "df.show(truncate=False)"
   ]
  },
  {
   "cell_type": "code",
   "execution_count": 0,
   "metadata": {
    "application/vnd.databricks.v1+cell": {
     "cellMetadata": {
      "byteLimit": 2048000,
      "rowLimit": 10000
     },
     "inputWidgets": {},
     "nuid": "2649a2f0-3990-4ac0-b041-635d73c62b05",
     "showTitle": false,
     "title": ""
    }
   },
   "outputs": [
    {
     "output_type": "stream",
     "name": "stdout",
     "output_type": "stream",
     "text": [
      "+---+----------------+---+\n| id|            name|age|\n+---+----------------+---+\n|  1|           kalai| 23|\n|  2|         basheer| 23|\n|  3|      satyapriya| 22|\n|  4|rajamahalakshmai| 22|\n|  5|   logeshwaram A| 23|\n+---+----------------+---+\n\n"
     ]
    }
   ],
   "source": [
    "from pyspark.sql.types import StringType,StructType,StructField,IntegerType \n",
    "data = [(1,\"kalai\",23),\n",
    "        (2,\"basheer\",23),\n",
    "        (3,\"satyapriya\",22),\n",
    "        (4,\"rajamahalakshmai\",22),\n",
    "        (5,\"logeshwaram A\",23)]\n",
    "\n",
    "schema = StructType([\n",
    "    StructField(\"id\",IntegerType()),\n",
    "    StructField(\"name\",StringType()),\n",
    "    StructField(\"age\",IntegerType())\n",
    "])\n",
    "\n",
    "df = spark.createDataFrame(data = data , schema = schema)\n",
    "df.show()"
   ]
  },
  {
   "cell_type": "code",
   "execution_count": 0,
   "metadata": {
    "application/vnd.databricks.v1+cell": {
     "cellMetadata": {
      "byteLimit": 2048000,
      "rowLimit": 10000
     },
     "inputWidgets": {},
     "nuid": "33cd3d48-d160-4029-a321-b9af24647894",
     "showTitle": false,
     "title": ""
    }
   },
   "outputs": [],
   "source": [
    "df.write.json(\"dbfs:/FileStore/json_file/emps\")"
   ]
  },
  {
   "cell_type": "code",
   "execution_count": 0,
   "metadata": {
    "application/vnd.databricks.v1+cell": {
     "cellMetadata": {
      "byteLimit": 2048000,
      "rowLimit": 10000
     },
     "inputWidgets": {},
     "nuid": "8fd5a166-0963-4ff3-afdb-e574c9b74ebd",
     "showTitle": false,
     "title": ""
    }
   },
   "outputs": [
    {
     "output_type": "display_data",
     "data": {
      "text/html": [
       "<style scoped>\n",
       "  .table-result-container {\n",
       "    max-height: 300px;\n",
       "    overflow: auto;\n",
       "  }\n",
       "  table, th, td {\n",
       "    border: 1px solid black;\n",
       "    border-collapse: collapse;\n",
       "  }\n",
       "  th, td {\n",
       "    padding: 5px;\n",
       "  }\n",
       "  th {\n",
       "    text-align: left;\n",
       "  }\n",
       "</style><div class='table-result-container'><table class='table-result'><thead style='background-color: white'><tr><th>age</th><th>id</th><th>name</th></tr></thead><tbody><tr><td>22</td><td>4</td><td>rajamahalakshmai</td></tr><tr><td>23</td><td>5</td><td>logeshwaram A</td></tr><tr><td>22</td><td>3</td><td>satyapriya</td></tr><tr><td>23</td><td>2</td><td>basheer</td></tr><tr><td>23</td><td>1</td><td>kalai</td></tr></tbody></table></div>"
      ]
     },
     "metadata": {
      "application/vnd.databricks.v1+output": {
       "addedWidgets": {},
       "aggData": [],
       "aggError": "",
       "aggOverflow": false,
       "aggSchema": [],
       "aggSeriesLimitReached": false,
       "aggType": "",
       "arguments": {},
       "columnCustomDisplayInfos": {},
       "data": [
        [
         22,
         4,
         "rajamahalakshmai"
        ],
        [
         23,
         5,
         "logeshwaram A"
        ],
        [
         22,
         3,
         "satyapriya"
        ],
        [
         23,
         2,
         "basheer"
        ],
        [
         23,
         1,
         "kalai"
        ]
       ],
       "datasetInfos": [],
       "dbfsResultPath": null,
       "isJsonSchema": true,
       "metadata": {},
       "overflow": false,
       "plotOptions": {
        "customPlotOptions": {},
        "displayType": "table",
        "pivotAggregation": null,
        "pivotColumns": null,
        "xColumns": null,
        "yColumns": null
       },
       "removedWidgets": [],
       "schema": [
        {
         "metadata": "{}",
         "name": "age",
         "type": "\"long\""
        },
        {
         "metadata": "{}",
         "name": "id",
         "type": "\"long\""
        },
        {
         "metadata": "{}",
         "name": "name",
         "type": "\"string\""
        }
       ],
       "type": "table"
      }
     },
     "output_type": "display_data"
    }
   ],
   "source": [
    "display(spark.read.json(path='dbfs:/FileStore/json_file/emps'))"
   ]
  },
  {
   "cell_type": "code",
   "execution_count": 0,
   "metadata": {
    "application/vnd.databricks.v1+cell": {
     "cellMetadata": {
      "byteLimit": 2048000,
      "rowLimit": 10000
     },
     "inputWidgets": {},
     "nuid": "acb9646a-3e5a-431a-afeb-9a891e360553",
     "showTitle": false,
     "title": ""
    }
   },
   "outputs": [
    {
     "output_type": "stream",
     "name": "stdout",
     "output_type": "stream",
     "text": [
      "+---+--------+---+\n| id|    name|age|\n+---+--------+---+\n|  1| kuldeep| 23|\n|  2|   manvi| 23|\n|  3| krishna| 22|\n|  4|pratibha| 22|\n|  5|    amit| 23|\n+---+--------+---+\n\n"
     ]
    }
   ],
   "source": [
    "data = [(1,\"kuldeep\",23),\n",
    "        (2,\"manvi\",23),\n",
    "        (3,\"krishna\",22),\n",
    "        (4,\"pratibha\",22),\n",
    "        (5,\"amit\",23)]\n",
    "\n",
    "schema = StructType([\n",
    "    StructField(\"id\",IntegerType()),\n",
    "    StructField(\"name\",StringType()),\n",
    "    StructField(\"age\",IntegerType())\n",
    "])\n",
    "\n",
    "df2 = spark.createDataFrame(data = data , schema = schema)\n",
    "df2.show()"
   ]
  },
  {
   "cell_type": "code",
   "execution_count": 0,
   "metadata": {
    "application/vnd.databricks.v1+cell": {
     "cellMetadata": {
      "byteLimit": 2048000,
      "rowLimit": 10000
     },
     "inputWidgets": {},
     "nuid": "97e0182f-185f-4960-a236-a7562ba247ef",
     "showTitle": false,
     "title": ""
    }
   },
   "outputs": [],
   "source": [
    "df2.write.json(\"dbfs:/FileStore/json_file/emps\",mode='append')"
   ]
  },
  {
   "cell_type": "markdown",
   "metadata": {
    "application/vnd.databricks.v1+cell": {
     "cellMetadata": {},
     "inputWidgets": {},
     "nuid": "94d53c96-f348-4ad3-be3a-b42ea44a5e59",
     "showTitle": false,
     "title": ""
    }
   },
   "source": [
    "append is successfully done"
   ]
  },
  {
   "cell_type": "code",
   "execution_count": 0,
   "metadata": {
    "application/vnd.databricks.v1+cell": {
     "cellMetadata": {
      "byteLimit": 2048000,
      "rowLimit": 10000
     },
     "inputWidgets": {},
     "nuid": "c6c7608e-6b44-4734-8c2f-0d94204845cb",
     "showTitle": false,
     "title": ""
    }
   },
   "outputs": [
    {
     "output_type": "display_data",
     "data": {
      "text/html": [
       "<style scoped>\n",
       "  .table-result-container {\n",
       "    max-height: 300px;\n",
       "    overflow: auto;\n",
       "  }\n",
       "  table, th, td {\n",
       "    border: 1px solid black;\n",
       "    border-collapse: collapse;\n",
       "  }\n",
       "  th, td {\n",
       "    padding: 5px;\n",
       "  }\n",
       "  th {\n",
       "    text-align: left;\n",
       "  }\n",
       "</style><div class='table-result-container'><table class='table-result'><thead style='background-color: white'><tr><th>age</th><th>id</th><th>name</th></tr></thead><tbody><tr><td>22</td><td>4</td><td>rajamahalakshmai</td></tr><tr><td>23</td><td>5</td><td>logeshwaram A</td></tr><tr><td>22</td><td>3</td><td>satyapriya</td></tr><tr><td>22</td><td>4</td><td>pratibha</td></tr><tr><td>23</td><td>1</td><td>kuldeep</td></tr><tr><td>23</td><td>2</td><td>basheer</td></tr><tr><td>22</td><td>3</td><td>krishna</td></tr><tr><td>23</td><td>1</td><td>kalai</td></tr><tr><td>23</td><td>2</td><td>manvi</td></tr><tr><td>23</td><td>5</td><td>amit</td></tr></tbody></table></div>"
      ]
     },
     "metadata": {
      "application/vnd.databricks.v1+output": {
       "addedWidgets": {},
       "aggData": [],
       "aggError": "",
       "aggOverflow": false,
       "aggSchema": [],
       "aggSeriesLimitReached": false,
       "aggType": "",
       "arguments": {},
       "columnCustomDisplayInfos": {},
       "data": [
        [
         22,
         4,
         "rajamahalakshmai"
        ],
        [
         23,
         5,
         "logeshwaram A"
        ],
        [
         22,
         3,
         "satyapriya"
        ],
        [
         22,
         4,
         "pratibha"
        ],
        [
         23,
         1,
         "kuldeep"
        ],
        [
         23,
         2,
         "basheer"
        ],
        [
         22,
         3,
         "krishna"
        ],
        [
         23,
         1,
         "kalai"
        ],
        [
         23,
         2,
         "manvi"
        ],
        [
         23,
         5,
         "amit"
        ]
       ],
       "datasetInfos": [],
       "dbfsResultPath": null,
       "isJsonSchema": true,
       "metadata": {},
       "overflow": false,
       "plotOptions": {
        "customPlotOptions": {},
        "displayType": "table",
        "pivotAggregation": null,
        "pivotColumns": null,
        "xColumns": null,
        "yColumns": null
       },
       "removedWidgets": [],
       "schema": [
        {
         "metadata": "{}",
         "name": "age",
         "type": "\"long\""
        },
        {
         "metadata": "{}",
         "name": "id",
         "type": "\"long\""
        },
        {
         "metadata": "{}",
         "name": "name",
         "type": "\"string\""
        }
       ],
       "type": "table"
      }
     },
     "output_type": "display_data"
    }
   ],
   "source": [
    "display(spark.read.json(path='dbfs:/FileStore/json_file/emps'))"
   ]
  },
  {
   "cell_type": "code",
   "execution_count": 0,
   "metadata": {
    "application/vnd.databricks.v1+cell": {
     "cellMetadata": {},
     "inputWidgets": {},
     "nuid": "43ac5861-9ad6-45f7-ae51-148570f3927e",
     "showTitle": false,
     "title": ""
    }
   },
   "outputs": [],
   "source": []
  }
 ],
 "metadata": {
  "application/vnd.databricks.v1+notebook": {
   "dashboards": [],
   "language": "python",
   "notebookMetadata": {
    "pythonIndentUnit": 4
   },
   "notebookName": "readjson_writejson",
   "widgets": {}
  }
 },
 "nbformat": 4,
 "nbformat_minor": 0
}
