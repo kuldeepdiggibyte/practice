{
 "cells": [
  {
   "cell_type": "markdown",
   "metadata": {
    "application/vnd.databricks.v1+cell": {
     "cellMetadata": {},
     "inputWidgets": {},
     "nuid": "a3d6b587-403d-422d-89fd-ad1b40f9d635",
     "showTitle": false,
     "title": ""
    }
   },
   "source": [
    "Create Delta Table"
   ]
  },
  {
   "cell_type": "code",
   "execution_count": 0,
   "metadata": {
    "application/vnd.databricks.v1+cell": {
     "cellMetadata": {
      "byteLimit": 2048000,
      "rowLimit": 10000
     },
     "inputWidgets": {},
     "nuid": "59c5617a-1d6b-41b4-91c7-1dfe57268703",
     "showTitle": false,
     "title": ""
    }
   },
   "outputs": [
    {
     "output_type": "stream",
     "name": "stdout",
     "output_type": "stream",
     "text": [
      "Out[8]: <delta.tables.DeltaTable at 0x7f214a501070>"
     ]
    }
   ],
   "source": [
    "from delta.tables import *\n",
    "\n",
    "DeltaTable.create(spark)\\\n",
    "  .tableName(\"delta_tables\")\\\n",
    "  .addColumn('emp_id',\"INT\")\\\n",
    "  .addColumn('emp_name',\"STRING\")\\\n",
    "  .addColumn('gender',\"STRING\")\\\n",
    "  .addColumn('salary',\"INT\")\\\n",
    "  .addColumn('Dept',\"STRING\")\\\n",
    "  .property('description',\"Table created for demo purpose\")\\\n",
    "  .location('FileStore/table/delta_table/arch_demo')\\\n",
    "  .execute()\n"
   ]
  },
  {
   "cell_type": "code",
   "execution_count": 0,
   "metadata": {
    "application/vnd.databricks.v1+cell": {
     "cellMetadata": {
      "byteLimit": 2048000,
      "rowLimit": 10000
     },
     "inputWidgets": {},
     "nuid": "e8a81a20-7bdd-4f8f-aaad-72017b197867",
     "showTitle": false,
     "title": ""
    }
   },
   "outputs": [
    {
     "output_type": "display_data",
     "data": {
      "text/html": [
       "<style scoped>\n",
       "  .table-result-container {\n",
       "    max-height: 300px;\n",
       "    overflow: auto;\n",
       "  }\n",
       "  table, th, td {\n",
       "    border: 1px solid black;\n",
       "    border-collapse: collapse;\n",
       "  }\n",
       "  th, td {\n",
       "    padding: 5px;\n",
       "  }\n",
       "  th {\n",
       "    text-align: left;\n",
       "  }\n",
       "</style><div class='table-result-container'><table class='table-result'><thead style='background-color: white'><tr><th>path</th><th>name</th><th>size</th><th>modificationTime</th></tr></thead><tbody><tr><td>dbfs:/user/hive/warehouse/FileStore/tables/delta/arch_demo/_delta_log/.s3-optimization-0</td><td>.s3-optimization-0</td><td>0</td><td>1713164408000</td></tr><tr><td>dbfs:/user/hive/warehouse/FileStore/tables/delta/arch_demo/_delta_log/.s3-optimization-1</td><td>.s3-optimization-1</td><td>0</td><td>1713164408000</td></tr><tr><td>dbfs:/user/hive/warehouse/FileStore/tables/delta/arch_demo/_delta_log/.s3-optimization-2</td><td>.s3-optimization-2</td><td>0</td><td>1713164408000</td></tr><tr><td>dbfs:/user/hive/warehouse/FileStore/tables/delta/arch_demo/_delta_log/00000000000000000000.crc</td><td>00000000000000000000.crc</td><td>2233</td><td>1713164438000</td></tr><tr><td>dbfs:/user/hive/warehouse/FileStore/tables/delta/arch_demo/_delta_log/00000000000000000000.json</td><td>00000000000000000000.json</td><td>1267</td><td>1713164409000</td></tr></tbody></table></div>"
      ]
     },
     "metadata": {
      "application/vnd.databricks.v1+output": {
       "addedWidgets": {},
       "aggData": [],
       "aggError": "",
       "aggOverflow": false,
       "aggSchema": [],
       "aggSeriesLimitReached": false,
       "aggType": "",
       "arguments": {},
       "columnCustomDisplayInfos": {},
       "data": [
        [
         "dbfs:/user/hive/warehouse/FileStore/tables/delta/arch_demo/_delta_log/.s3-optimization-0",
         ".s3-optimization-0",
         0,
         1713164408000
        ],
        [
         "dbfs:/user/hive/warehouse/FileStore/tables/delta/arch_demo/_delta_log/.s3-optimization-1",
         ".s3-optimization-1",
         0,
         1713164408000
        ],
        [
         "dbfs:/user/hive/warehouse/FileStore/tables/delta/arch_demo/_delta_log/.s3-optimization-2",
         ".s3-optimization-2",
         0,
         1713164408000
        ],
        [
         "dbfs:/user/hive/warehouse/FileStore/tables/delta/arch_demo/_delta_log/00000000000000000000.crc",
         "00000000000000000000.crc",
         2233,
         1713164438000
        ],
        [
         "dbfs:/user/hive/warehouse/FileStore/tables/delta/arch_demo/_delta_log/00000000000000000000.json",
         "00000000000000000000.json",
         1267,
         1713164409000
        ]
       ],
       "datasetInfos": [],
       "dbfsResultPath": null,
       "isJsonSchema": true,
       "metadata": {
        "isDbfsCommandResult": false
       },
       "overflow": false,
       "plotOptions": {
        "customPlotOptions": {},
        "displayType": "table",
        "pivotAggregation": null,
        "pivotColumns": null,
        "xColumns": null,
        "yColumns": null
       },
       "removedWidgets": [],
       "schema": [
        {
         "metadata": "{}",
         "name": "path",
         "type": "\"string\""
        },
        {
         "metadata": "{}",
         "name": "name",
         "type": "\"string\""
        },
        {
         "metadata": "{}",
         "name": "size",
         "type": "\"long\""
        },
        {
         "metadata": "{}",
         "name": "modificationTime",
         "type": "\"long\""
        }
       ],
       "type": "table"
      }
     },
     "output_type": "display_data"
    }
   ],
   "source": [
    "%fs\n",
    "ls dbfs:/user/hive/warehouse/FileStore/tables/delta/arch_demo/_delta_log"
   ]
  },
  {
   "cell_type": "code",
   "execution_count": 0,
   "metadata": {
    "application/vnd.databricks.v1+cell": {
     "cellMetadata": {
      "byteLimit": 2048000,
      "rowLimit": 10000
     },
     "inputWidgets": {},
     "nuid": "6dab4ff0-2b15-46ff-9cfe-e1ca062763be",
     "showTitle": false,
     "title": ""
    }
   },
   "outputs": [
    {
     "output_type": "display_data",
     "data": {
      "text/html": [
       "<style scoped>\n",
       "  .ansiout {\n",
       "    display: block;\n",
       "    unicode-bidi: embed;\n",
       "    white-space: pre-wrap;\n",
       "    word-wrap: break-word;\n",
       "    word-break: break-all;\n",
       "    font-family: \"Menlo\", \"Monaco\", \"Consolas\", \"Ubuntu Mono\", \"Source Code Pro\", monospace;\n",
       "    font-size: 13px;\n",
       "    color: #555;\n",
       "    margin-left: 4px;\n",
       "    line-height: 19px;\n",
       "  }\n",
       "</style>\n",
       "<div class=\"ansiout\">{&quot;commitInfo&quot;:{&quot;timestamp&quot;:1713164407624,&quot;userId&quot;:&quot;2345117478651856&quot;,&quot;userName&quot;:&quot;kuldeep.pralhadmanagoli@diggibyte.com&quot;,&quot;operation&quot;:&quot;CREATE TABLE&quot;,&quot;operationParameters&quot;:{&quot;isManaged&quot;:&quot;false&quot;,&quot;description&quot;:null,&quot;partitionBy&quot;:&quot;[]&quot;,&quot;properties&quot;:&quot;{\\&quot;description\\&quot;:\\&quot;Table created for demo purpose\\&quot;}&quot;},&quot;notebook&quot;:{&quot;notebookId&quot;:&quot;1232384757734674&quot;},&quot;clusterId&quot;:&quot;0415-065348-jkgcidek&quot;,&quot;isolationLevel&quot;:&quot;WriteSerializable&quot;,&quot;isBlindAppend&quot;:true,&quot;operationMetrics&quot;:{},&quot;engineInfo&quot;:&quot;Databricks-Runtime/12.2.x-scala2.12&quot;,&quot;txnId&quot;:&quot;6abf2d0e-a163-4c55-83e2-55263f2f8619&quot;}}\n",
       "{&quot;protocol&quot;:{&quot;minReaderVersion&quot;:1,&quot;minWriterVersion&quot;:2}}\n",
       "{&quot;metaData&quot;:{&quot;id&quot;:&quot;fdf95a1b-e6a4-4796-8d06-7bc0d702481f&quot;,&quot;format&quot;:{&quot;provider&quot;:&quot;parquet&quot;,&quot;options&quot;:{}},&quot;schemaString&quot;:&quot;{\\&quot;type\\&quot;:\\&quot;struct\\&quot;,\\&quot;fields\\&quot;:[{\\&quot;name\\&quot;:\\&quot;emp_id\\&quot;,\\&quot;type\\&quot;:\\&quot;integer\\&quot;,\\&quot;nullable\\&quot;:true,\\&quot;metadata\\&quot;:{}},{\\&quot;name\\&quot;:\\&quot;emp_name\\&quot;,\\&quot;type\\&quot;:\\&quot;string\\&quot;,\\&quot;nullable\\&quot;:true,\\&quot;metadata\\&quot;:{}},{\\&quot;name\\&quot;:\\&quot;gender\\&quot;,\\&quot;type\\&quot;:\\&quot;string\\&quot;,\\&quot;nullable\\&quot;:true,\\&quot;metadata\\&quot;:{}},{\\&quot;name\\&quot;:\\&quot;salary\\&quot;,\\&quot;type\\&quot;:\\&quot;integer\\&quot;,\\&quot;nullable\\&quot;:true,\\&quot;metadata\\&quot;:{}},{\\&quot;name\\&quot;:\\&quot;Dept\\&quot;,\\&quot;type\\&quot;:\\&quot;string\\&quot;,\\&quot;nullable\\&quot;:true,\\&quot;metadata\\&quot;:{}}]}&quot;,&quot;partitionColumns&quot;:[],&quot;configuration&quot;:{&quot;description&quot;:&quot;Table created for demo purpose&quot;},&quot;createdTime&quot;:1713164404676}}\n",
       "\n",
       "</div>"
      ]
     },
     "metadata": {
      "application/vnd.databricks.v1+output": {
       "addedWidgets": {},
       "arguments": {},
       "data": "<div class=\"ansiout\">{&quot;commitInfo&quot;:{&quot;timestamp&quot;:1713164407624,&quot;userId&quot;:&quot;2345117478651856&quot;,&quot;userName&quot;:&quot;kuldeep.pralhadmanagoli@diggibyte.com&quot;,&quot;operation&quot;:&quot;CREATE TABLE&quot;,&quot;operationParameters&quot;:{&quot;isManaged&quot;:&quot;false&quot;,&quot;description&quot;:null,&quot;partitionBy&quot;:&quot;[]&quot;,&quot;properties&quot;:&quot;{\\&quot;description\\&quot;:\\&quot;Table created for demo purpose\\&quot;}&quot;},&quot;notebook&quot;:{&quot;notebookId&quot;:&quot;1232384757734674&quot;},&quot;clusterId&quot;:&quot;0415-065348-jkgcidek&quot;,&quot;isolationLevel&quot;:&quot;WriteSerializable&quot;,&quot;isBlindAppend&quot;:true,&quot;operationMetrics&quot;:{},&quot;engineInfo&quot;:&quot;Databricks-Runtime/12.2.x-scala2.12&quot;,&quot;txnId&quot;:&quot;6abf2d0e-a163-4c55-83e2-55263f2f8619&quot;}}\n{&quot;protocol&quot;:{&quot;minReaderVersion&quot;:1,&quot;minWriterVersion&quot;:2}}\n{&quot;metaData&quot;:{&quot;id&quot;:&quot;fdf95a1b-e6a4-4796-8d06-7bc0d702481f&quot;,&quot;format&quot;:{&quot;provider&quot;:&quot;parquet&quot;,&quot;options&quot;:{}},&quot;schemaString&quot;:&quot;{\\&quot;type\\&quot;:\\&quot;struct\\&quot;,\\&quot;fields\\&quot;:[{\\&quot;name\\&quot;:\\&quot;emp_id\\&quot;,\\&quot;type\\&quot;:\\&quot;integer\\&quot;,\\&quot;nullable\\&quot;:true,\\&quot;metadata\\&quot;:{}},{\\&quot;name\\&quot;:\\&quot;emp_name\\&quot;,\\&quot;type\\&quot;:\\&quot;string\\&quot;,\\&quot;nullable\\&quot;:true,\\&quot;metadata\\&quot;:{}},{\\&quot;name\\&quot;:\\&quot;gender\\&quot;,\\&quot;type\\&quot;:\\&quot;string\\&quot;,\\&quot;nullable\\&quot;:true,\\&quot;metadata\\&quot;:{}},{\\&quot;name\\&quot;:\\&quot;salary\\&quot;,\\&quot;type\\&quot;:\\&quot;integer\\&quot;,\\&quot;nullable\\&quot;:true,\\&quot;metadata\\&quot;:{}},{\\&quot;name\\&quot;:\\&quot;Dept\\&quot;,\\&quot;type\\&quot;:\\&quot;string\\&quot;,\\&quot;nullable\\&quot;:true,\\&quot;metadata\\&quot;:{}}]}&quot;,&quot;partitionColumns&quot;:[],&quot;configuration&quot;:{&quot;description&quot;:&quot;Table created for demo purpose&quot;},&quot;createdTime&quot;:1713164404676}}\n\n</div>",
       "datasetInfos": [],
       "metadata": {
        "isDbfsCommandResult": false
       },
       "removedWidgets": [],
       "type": "html"
      }
     },
     "output_type": "display_data"
    }
   ],
   "source": [
    "%fs \n",
    "head dbfs:/user/hive/warehouse/FileStore/tables/delta/arch_demo/_delta_log/00000000000000000000.json"
   ]
  },
  {
   "cell_type": "code",
   "execution_count": 0,
   "metadata": {
    "application/vnd.databricks.v1+cell": {
     "cellMetadata": {
      "byteLimit": 2048000,
      "implicitDf": true,
      "rowLimit": 10000
     },
     "inputWidgets": {},
     "nuid": "b96dd6ea-0050-444b-8d03-27ff40058f2d",
     "showTitle": false,
     "title": ""
    }
   },
   "outputs": [
    {
     "output_type": "display_data",
     "data": {
      "text/html": [
       "<style scoped>\n",
       "  .table-result-container {\n",
       "    max-height: 300px;\n",
       "    overflow: auto;\n",
       "  }\n",
       "  table, th, td {\n",
       "    border: 1px solid black;\n",
       "    border-collapse: collapse;\n",
       "  }\n",
       "  th, td {\n",
       "    padding: 5px;\n",
       "  }\n",
       "  th {\n",
       "    text-align: left;\n",
       "  }\n",
       "</style><div class='table-result-container'><table class='table-result'><thead style='background-color: white'><tr><th>emp_id</th><th>emp_name</th><th>gender</th><th>salary</th><th>Dept</th></tr></thead><tbody></tbody></table></div>"
      ]
     },
     "metadata": {
      "application/vnd.databricks.v1+output": {
       "addedWidgets": {},
       "aggData": [],
       "aggError": "",
       "aggOverflow": false,
       "aggSchema": [],
       "aggSeriesLimitReached": false,
       "aggType": "",
       "arguments": {},
       "columnCustomDisplayInfos": {},
       "data": [],
       "datasetInfos": [],
       "dbfsResultPath": null,
       "isJsonSchema": true,
       "metadata": {},
       "overflow": false,
       "plotOptions": {
        "customPlotOptions": {},
        "displayType": "table",
        "pivotAggregation": null,
        "pivotColumns": null,
        "xColumns": null,
        "yColumns": null
       },
       "removedWidgets": [],
       "schema": [
        {
         "metadata": "{}",
         "name": "emp_id",
         "type": "\"integer\""
        },
        {
         "metadata": "{}",
         "name": "emp_name",
         "type": "\"string\""
        },
        {
         "metadata": "{}",
         "name": "gender",
         "type": "\"string\""
        },
        {
         "metadata": "{}",
         "name": "salary",
         "type": "\"integer\""
        },
        {
         "metadata": "{}",
         "name": "Dept",
         "type": "\"string\""
        }
       ],
       "type": "table"
      }
     },
     "output_type": "display_data"
    }
   ],
   "source": [
    "%sql\n",
    "select * from delta_tables\n"
   ]
  },
  {
   "cell_type": "code",
   "execution_count": 0,
   "metadata": {
    "application/vnd.databricks.v1+cell": {
     "cellMetadata": {
      "byteLimit": 2048000,
      "implicitDf": true,
      "rowLimit": 10000
     },
     "inputWidgets": {},
     "nuid": "56dc5342-e624-4b28-a484-fd90c08f2407",
     "showTitle": false,
     "title": ""
    }
   },
   "outputs": [
    {
     "output_type": "display_data",
     "data": {
      "text/html": [
       "<style scoped>\n",
       "  .table-result-container {\n",
       "    max-height: 300px;\n",
       "    overflow: auto;\n",
       "  }\n",
       "  table, th, td {\n",
       "    border: 1px solid black;\n",
       "    border-collapse: collapse;\n",
       "  }\n",
       "  th, td {\n",
       "    padding: 5px;\n",
       "  }\n",
       "  th {\n",
       "    text-align: left;\n",
       "  }\n",
       "</style><div class='table-result-container'><table class='table-result'><thead style='background-color: white'><tr><th>num_affected_rows</th><th>num_inserted_rows</th></tr></thead><tbody><tr><td>1</td><td>1</td></tr></tbody></table></div>"
      ]
     },
     "metadata": {
      "application/vnd.databricks.v1+output": {
       "addedWidgets": {},
       "aggData": [],
       "aggError": "",
       "aggOverflow": false,
       "aggSchema": [],
       "aggSeriesLimitReached": false,
       "aggType": "",
       "arguments": {},
       "columnCustomDisplayInfos": {},
       "data": [
        [
         1,
         1
        ]
       ],
       "datasetInfos": [],
       "dbfsResultPath": null,
       "isJsonSchema": true,
       "metadata": {},
       "overflow": false,
       "plotOptions": {
        "customPlotOptions": {},
        "displayType": "table",
        "pivotAggregation": null,
        "pivotColumns": null,
        "xColumns": null,
        "yColumns": null
       },
       "removedWidgets": [],
       "schema": [
        {
         "metadata": "{}",
         "name": "num_affected_rows",
         "type": "\"long\""
        },
        {
         "metadata": "{}",
         "name": "num_inserted_rows",
         "type": "\"long\""
        }
       ],
       "type": "table"
      }
     },
     "output_type": "display_data"
    }
   ],
   "source": [
    "%sql\n",
    "\n",
    "insert into delta_tables values (200, \"kuldeep\",'N',8000,\"HR\");\n",
    "insert into delta_tables values (201, \"kartik\",'N',80000,\"CEO\");"
   ]
  },
  {
   "cell_type": "code",
   "execution_count": 0,
   "metadata": {
    "application/vnd.databricks.v1+cell": {
     "cellMetadata": {
      "byteLimit": 2048000,
      "implicitDf": true,
      "rowLimit": 10000
     },
     "inputWidgets": {},
     "nuid": "d59be1d6-d711-42f7-a45a-975e1fcff6cd",
     "showTitle": false,
     "title": ""
    }
   },
   "outputs": [
    {
     "output_type": "display_data",
     "data": {
      "text/html": [
       "<style scoped>\n",
       "  .table-result-container {\n",
       "    max-height: 300px;\n",
       "    overflow: auto;\n",
       "  }\n",
       "  table, th, td {\n",
       "    border: 1px solid black;\n",
       "    border-collapse: collapse;\n",
       "  }\n",
       "  th, td {\n",
       "    padding: 5px;\n",
       "  }\n",
       "  th {\n",
       "    text-align: left;\n",
       "  }\n",
       "</style><div class='table-result-container'><table class='table-result'><thead style='background-color: white'><tr><th>num_affected_rows</th></tr></thead><tbody><tr><td>2</td></tr></tbody></table></div>"
      ]
     },
     "metadata": {
      "application/vnd.databricks.v1+output": {
       "addedWidgets": {},
       "aggData": [],
       "aggError": "",
       "aggOverflow": false,
       "aggSchema": [],
       "aggSeriesLimitReached": false,
       "aggType": "",
       "arguments": {},
       "columnCustomDisplayInfos": {},
       "data": [
        [
         2
        ]
       ],
       "datasetInfos": [],
       "dbfsResultPath": null,
       "isJsonSchema": true,
       "metadata": {},
       "overflow": false,
       "plotOptions": {
        "customPlotOptions": {},
        "displayType": "table",
        "pivotAggregation": null,
        "pivotColumns": null,
        "xColumns": null,
        "yColumns": null
       },
       "removedWidgets": [],
       "schema": [
        {
         "metadata": "{}",
         "name": "num_affected_rows",
         "type": "\"long\""
        }
       ],
       "type": "table"
      }
     },
     "output_type": "display_data"
    }
   ],
   "source": [
    "%sql\n",
    "delete from delta_tables where emp_id = 200;"
   ]
  },
  {
   "cell_type": "code",
   "execution_count": 0,
   "metadata": {
    "application/vnd.databricks.v1+cell": {
     "cellMetadata": {
      "byteLimit": 2048000,
      "implicitDf": true,
      "rowLimit": 10000
     },
     "inputWidgets": {},
     "nuid": "3c57e1cd-d5f7-45ad-bf25-43d6cf084cfb",
     "showTitle": false,
     "title": ""
    }
   },
   "outputs": [
    {
     "output_type": "display_data",
     "data": {
      "text/html": [
       "<style scoped>\n",
       "  .table-result-container {\n",
       "    max-height: 300px;\n",
       "    overflow: auto;\n",
       "  }\n",
       "  table, th, td {\n",
       "    border: 1px solid black;\n",
       "    border-collapse: collapse;\n",
       "  }\n",
       "  th, td {\n",
       "    padding: 5px;\n",
       "  }\n",
       "  th {\n",
       "    text-align: left;\n",
       "  }\n",
       "</style><div class='table-result-container'><table class='table-result'><thead style='background-color: white'><tr><th>emp_id</th><th>emp_name</th><th>gender</th><th>salary</th><th>Dept</th></tr></thead><tbody><tr><td>201</td><td>kartik</td><td>N</td><td>80000</td><td>CEO</td></tr></tbody></table></div>"
      ]
     },
     "metadata": {
      "application/vnd.databricks.v1+output": {
       "addedWidgets": {},
       "aggData": [],
       "aggError": "",
       "aggOverflow": false,
       "aggSchema": [],
       "aggSeriesLimitReached": false,
       "aggType": "",
       "arguments": {},
       "columnCustomDisplayInfos": {},
       "data": [
        [
         201,
         "kartik",
         "N",
         80000,
         "CEO"
        ]
       ],
       "datasetInfos": [],
       "dbfsResultPath": null,
       "isJsonSchema": true,
       "metadata": {},
       "overflow": false,
       "plotOptions": {
        "customPlotOptions": {},
        "displayType": "table",
        "pivotAggregation": null,
        "pivotColumns": null,
        "xColumns": null,
        "yColumns": null
       },
       "removedWidgets": [],
       "schema": [
        {
         "metadata": "{}",
         "name": "emp_id",
         "type": "\"integer\""
        },
        {
         "metadata": "{}",
         "name": "emp_name",
         "type": "\"string\""
        },
        {
         "metadata": "{}",
         "name": "gender",
         "type": "\"string\""
        },
        {
         "metadata": "{}",
         "name": "salary",
         "type": "\"integer\""
        },
        {
         "metadata": "{}",
         "name": "Dept",
         "type": "\"string\""
        }
       ],
       "type": "table"
      }
     },
     "output_type": "display_data"
    }
   ],
   "source": [
    "%sql\n",
    "select * from delta_tables"
   ]
  },
  {
   "cell_type": "code",
   "execution_count": 0,
   "metadata": {
    "application/vnd.databricks.v1+cell": {
     "cellMetadata": {
      "byteLimit": 2048000,
      "rowLimit": 10000
     },
     "inputWidgets": {},
     "nuid": "886b47ff-5e20-41bf-9a31-3d5484fe4133",
     "showTitle": false,
     "title": ""
    }
   },
   "outputs": [
    {
     "output_type": "stream",
     "name": "stdout",
     "output_type": "stream",
     "text": [
      "Out[17]: DataFrame[commitInfo: struct<clusterId:string,engineInfo:string,isBlindAppend:boolean,isolationLevel:string,notebook:struct<notebookId:string>,operation:string,operationMetrics:struct<executionTimeMs:string,numAddedBytes:string,numAddedChangeFiles:string,numAddedFiles:string,numCopiedRows:string,numDeletedRows:string,numDeletionVectorsAdded:string,numDeletionVectorsRemoved:string,numRemovedBytes:string,numRemovedFiles:string,rewriteTimeMs:string,scanTimeMs:string>,operationParameters:struct<predicate:string>,readVersion:bigint,timestamp:bigint,txnId:string,userId:string,userName:string>, remove: struct<dataChange:boolean,deletionTimestamp:bigint,extendedFileMetadata:boolean,path:string,size:bigint,tags:struct<INSERTION_TIME:string,MAX_INSERTION_TIME:string,MIN_INSERTION_TIME:string,OPTIMIZE_TARGET_SIZE:string>>]"
     ]
    }
   ],
   "source": [
    "spark.read.json('dbfs:/user/hive/warehouse/FileStore/table/delta_table/arch_demo/_delta_log/00000000000000000005.json')"
   ]
  },
  {
   "cell_type": "code",
   "execution_count": 0,
   "metadata": {
    "application/vnd.databricks.v1+cell": {
     "cellMetadata": {
      "byteLimit": 2048000,
      "rowLimit": 10000
     },
     "inputWidgets": {},
     "nuid": "5e3d910a-aba4-4e1d-b5db-435a0831b1d5",
     "showTitle": false,
     "title": ""
    }
   },
   "outputs": [
    {
     "output_type": "display_data",
     "data": {
      "text/html": [
       "<style scoped>\n",
       "  .ansiout {\n",
       "    display: block;\n",
       "    unicode-bidi: embed;\n",
       "    white-space: pre-wrap;\n",
       "    word-wrap: break-word;\n",
       "    word-break: break-all;\n",
       "    font-family: \"Menlo\", \"Monaco\", \"Consolas\", \"Ubuntu Mono\", \"Source Code Pro\", monospace;\n",
       "    font-size: 13px;\n",
       "    color: #555;\n",
       "    margin-left: 4px;\n",
       "    line-height: 19px;\n",
       "  }\n",
       "</style>\n",
       "<div class=\"ansiout\">{&quot;commitInfo&quot;:{&quot;timestamp&quot;:1713171262710,&quot;userId&quot;:&quot;2345117478651856&quot;,&quot;userName&quot;:&quot;kuldeep.pralhadmanagoli@diggibyte.com&quot;,&quot;operation&quot;:&quot;DELETE&quot;,&quot;operationParameters&quot;:{&quot;predicate&quot;:&quot;[\\&quot;(emp_id#8414 = 200)\\&quot;]&quot;},&quot;notebook&quot;:{&quot;notebookId&quot;:&quot;1232384757734674&quot;},&quot;clusterId&quot;:&quot;0415-065348-jkgcidek&quot;,&quot;readVersion&quot;:4,&quot;isolationLevel&quot;:&quot;WriteSerializable&quot;,&quot;isBlindAppend&quot;:false,&quot;operationMetrics&quot;:{&quot;numRemovedFiles&quot;:&quot;2&quot;,&quot;numRemovedBytes&quot;:&quot;3040&quot;,&quot;numCopiedRows&quot;:&quot;0&quot;,&quot;numDeletionVectorsAdded&quot;:&quot;0&quot;,&quot;numDeletionVectorsRemoved&quot;:&quot;0&quot;,&quot;numAddedChangeFiles&quot;:&quot;0&quot;,&quot;executionTimeMs&quot;:&quot;2918&quot;,&quot;numDeletedRows&quot;:&quot;2&quot;,&quot;scanTimeMs&quot;:&quot;1571&quot;,&quot;numAddedFiles&quot;:&quot;0&quot;,&quot;numAddedBytes&quot;:&quot;0&quot;,&quot;rewriteTimeMs&quot;:&quot;1346&quot;},&quot;engineInfo&quot;:&quot;Databricks-Runtime/12.2.x-scala2.12&quot;,&quot;txnId&quot;:&quot;6f65d9ba-9a89-4c1b-9ec1-ebbff5e471f1&quot;}}\n",
       "{&quot;remove&quot;:{&quot;path&quot;:&quot;part-00000-e2d35a4b-cddd-4244-be88-af4e01cfc3b2-c000.snappy.parquet&quot;,&quot;deletionTimestamp&quot;:1713171262706,&quot;dataChange&quot;:true,&quot;extendedFileMetadata&quot;:true,&quot;partitionValues&quot;:{},&quot;size&quot;:1520,&quot;tags&quot;:{&quot;INSERTION_TIME&quot;:&quot;1713166647000000&quot;,&quot;MIN_INSERTION_TIME&quot;:&quot;1713166647000000&quot;,&quot;MAX_INSERTION_TIME&quot;:&quot;1713166647000000&quot;,&quot;OPTIMIZE_TARGET_SIZE&quot;:&quot;268435456&quot;}}}\n",
       "{&quot;remove&quot;:{&quot;path&quot;:&quot;part-00000-5e36c022-97ce-4247-ab58-4848c36f6ed3-c000.snappy.parquet&quot;,&quot;deletionTimestamp&quot;:1713171262706,&quot;dataChange&quot;:true,&quot;extendedFileMetadata&quot;:true,&quot;partitionValues&quot;:{},&quot;size&quot;:1520,&quot;tags&quot;:{&quot;INSERTION_TIME&quot;:&quot;1713167685000000&quot;,&quot;MIN_INSERTION_TIME&quot;:&quot;1713167685000000&quot;,&quot;MAX_INSERTION_TIME&quot;:&quot;1713167685000000&quot;,&quot;OPTIMIZE_TARGET_SIZE&quot;:&quot;268435456&quot;}}}\n",
       "\n",
       "</div>"
      ]
     },
     "metadata": {
      "application/vnd.databricks.v1+output": {
       "addedWidgets": {},
       "arguments": {},
       "data": "<div class=\"ansiout\">{&quot;commitInfo&quot;:{&quot;timestamp&quot;:1713171262710,&quot;userId&quot;:&quot;2345117478651856&quot;,&quot;userName&quot;:&quot;kuldeep.pralhadmanagoli@diggibyte.com&quot;,&quot;operation&quot;:&quot;DELETE&quot;,&quot;operationParameters&quot;:{&quot;predicate&quot;:&quot;[\\&quot;(emp_id#8414 = 200)\\&quot;]&quot;},&quot;notebook&quot;:{&quot;notebookId&quot;:&quot;1232384757734674&quot;},&quot;clusterId&quot;:&quot;0415-065348-jkgcidek&quot;,&quot;readVersion&quot;:4,&quot;isolationLevel&quot;:&quot;WriteSerializable&quot;,&quot;isBlindAppend&quot;:false,&quot;operationMetrics&quot;:{&quot;numRemovedFiles&quot;:&quot;2&quot;,&quot;numRemovedBytes&quot;:&quot;3040&quot;,&quot;numCopiedRows&quot;:&quot;0&quot;,&quot;numDeletionVectorsAdded&quot;:&quot;0&quot;,&quot;numDeletionVectorsRemoved&quot;:&quot;0&quot;,&quot;numAddedChangeFiles&quot;:&quot;0&quot;,&quot;executionTimeMs&quot;:&quot;2918&quot;,&quot;numDeletedRows&quot;:&quot;2&quot;,&quot;scanTimeMs&quot;:&quot;1571&quot;,&quot;numAddedFiles&quot;:&quot;0&quot;,&quot;numAddedBytes&quot;:&quot;0&quot;,&quot;rewriteTimeMs&quot;:&quot;1346&quot;},&quot;engineInfo&quot;:&quot;Databricks-Runtime/12.2.x-scala2.12&quot;,&quot;txnId&quot;:&quot;6f65d9ba-9a89-4c1b-9ec1-ebbff5e471f1&quot;}}\n{&quot;remove&quot;:{&quot;path&quot;:&quot;part-00000-e2d35a4b-cddd-4244-be88-af4e01cfc3b2-c000.snappy.parquet&quot;,&quot;deletionTimestamp&quot;:1713171262706,&quot;dataChange&quot;:true,&quot;extendedFileMetadata&quot;:true,&quot;partitionValues&quot;:{},&quot;size&quot;:1520,&quot;tags&quot;:{&quot;INSERTION_TIME&quot;:&quot;1713166647000000&quot;,&quot;MIN_INSERTION_TIME&quot;:&quot;1713166647000000&quot;,&quot;MAX_INSERTION_TIME&quot;:&quot;1713166647000000&quot;,&quot;OPTIMIZE_TARGET_SIZE&quot;:&quot;268435456&quot;}}}\n{&quot;remove&quot;:{&quot;path&quot;:&quot;part-00000-5e36c022-97ce-4247-ab58-4848c36f6ed3-c000.snappy.parquet&quot;,&quot;deletionTimestamp&quot;:1713171262706,&quot;dataChange&quot;:true,&quot;extendedFileMetadata&quot;:true,&quot;partitionValues&quot;:{},&quot;size&quot;:1520,&quot;tags&quot;:{&quot;INSERTION_TIME&quot;:&quot;1713167685000000&quot;,&quot;MIN_INSERTION_TIME&quot;:&quot;1713167685000000&quot;,&quot;MAX_INSERTION_TIME&quot;:&quot;1713167685000000&quot;,&quot;OPTIMIZE_TARGET_SIZE&quot;:&quot;268435456&quot;}}}\n\n</div>",
       "datasetInfos": [],
       "metadata": {
        "isDbfsCommandResult": false
       },
       "removedWidgets": [],
       "type": "html"
      }
     },
     "output_type": "display_data"
    }
   ],
   "source": [
    "%fs\n",
    "head dbfs:/user/hive/warehouse/FileStore/table/delta_table/arch_demo/_delta_log/00000000000000000005.json"
   ]
  },
  {
   "cell_type": "code",
   "execution_count": 0,
   "metadata": {
    "application/vnd.databricks.v1+cell": {
     "cellMetadata": {},
     "inputWidgets": {},
     "nuid": "641e5a0c-f522-4e1e-bb73-7f6fe7553265",
     "showTitle": false,
     "title": ""
    }
   },
   "outputs": [],
   "source": []
  },
  {
   "cell_type": "code",
   "execution_count": 0,
   "metadata": {
    "application/vnd.databricks.v1+cell": {
     "cellMetadata": {
      "byteLimit": 2048000,
      "rowLimit": 10000
     },
     "inputWidgets": {},
     "nuid": "1486b56f-2b6d-413d-9df6-ee95a0cbf63c",
     "showTitle": false,
     "title": ""
    }
   },
   "outputs": [
    {
     "output_type": "stream",
     "name": "stdout",
     "output_type": "stream",
     "text": [
      "Out[18]: <delta.tables.DeltaTable at 0x7f214a5734f0>"
     ]
    }
   ],
   "source": [
    "DeltaTable.create(spark)\\\n",
    "    .tableName(\"employee_demo\")\\\n",
    "    .addColumn('emp_id',\"INT\")\\\n",
    "    .addColumn('emp_name','STRING')\\\n",
    "    .addColumn('gender','STRING')\\\n",
    "    .addColumn('salary','INT')\\\n",
    "    .addColumn('Dept',\"STRING\")\\\n",
    "    .property('description','table created for demo purpose')\\\n",
    "    .location('/FileStore/tables/delta/createtable')\\\n",
    "    .execute()"
   ]
  },
  {
   "cell_type": "code",
   "execution_count": 0,
   "metadata": {
    "application/vnd.databricks.v1+cell": {
     "cellMetadata": {
      "byteLimit": 2048000,
      "implicitDf": true,
      "rowLimit": 10000
     },
     "inputWidgets": {},
     "nuid": "9bde928c-976e-4f6e-83a4-869cf746cbc7",
     "showTitle": false,
     "title": ""
    }
   },
   "outputs": [
    {
     "output_type": "display_data",
     "data": {
      "text/html": [
       "<style scoped>\n",
       "  .table-result-container {\n",
       "    max-height: 300px;\n",
       "    overflow: auto;\n",
       "  }\n",
       "  table, th, td {\n",
       "    border: 1px solid black;\n",
       "    border-collapse: collapse;\n",
       "  }\n",
       "  th, td {\n",
       "    padding: 5px;\n",
       "  }\n",
       "  th {\n",
       "    text-align: left;\n",
       "  }\n",
       "</style><div class='table-result-container'><table class='table-result'><thead style='background-color: white'><tr><th>emp_id</th><th>emp_name</th><th>gender</th><th>salary</th><th>Dept</th></tr></thead><tbody></tbody></table></div>"
      ]
     },
     "metadata": {
      "application/vnd.databricks.v1+output": {
       "addedWidgets": {},
       "aggData": [],
       "aggError": "",
       "aggOverflow": false,
       "aggSchema": [],
       "aggSeriesLimitReached": false,
       "aggType": "",
       "arguments": {},
       "columnCustomDisplayInfos": {},
       "data": [],
       "datasetInfos": [],
       "dbfsResultPath": null,
       "isJsonSchema": true,
       "metadata": {},
       "overflow": false,
       "plotOptions": {
        "customPlotOptions": {},
        "displayType": "table",
        "pivotAggregation": null,
        "pivotColumns": null,
        "xColumns": null,
        "yColumns": null
       },
       "removedWidgets": [],
       "schema": [
        {
         "metadata": "{}",
         "name": "emp_id",
         "type": "\"integer\""
        },
        {
         "metadata": "{}",
         "name": "emp_name",
         "type": "\"string\""
        },
        {
         "metadata": "{}",
         "name": "gender",
         "type": "\"string\""
        },
        {
         "metadata": "{}",
         "name": "salary",
         "type": "\"integer\""
        },
        {
         "metadata": "{}",
         "name": "Dept",
         "type": "\"string\""
        }
       ],
       "type": "table"
      }
     },
     "output_type": "display_data"
    }
   ],
   "source": [
    "%sql\n",
    "select * from employee_demo"
   ]
  },
  {
   "cell_type": "code",
   "execution_count": 0,
   "metadata": {
    "application/vnd.databricks.v1+cell": {
     "cellMetadata": {},
     "inputWidgets": {},
     "nuid": "1603bbce-ada5-4331-abcc-594b64803446",
     "showTitle": false,
     "title": ""
    }
   },
   "outputs": [],
   "source": [
    "from delta.tables import *\n",
    "DeltaTable.createIfNotExists(spark)\\\n",
    "    .tableName(\"employee_demo\")\\\n",
    "    .addColumn('emp_id',\"INT\")\\\n",
    "    .addColumn('emp_name','STRING')\\\n",
    "    .addColumn('gender','STRING')\\\n",
    "    .addColumn('salary','INT')\\\n",
    "    .addColumn('Dept',\"STRING\")\\\n",
    "    .property('description','table created for demo purpose')\\\n",
    "    .location('/FileStore/tables/delta/createtable')\\\n",
    "    .execute()"
   ]
  },
  {
   "cell_type": "code",
   "execution_count": 0,
   "metadata": {
    "application/vnd.databricks.v1+cell": {
     "cellMetadata": {},
     "inputWidgets": {},
     "nuid": "d352d365-ad13-47ab-b45e-22f7108e1443",
     "showTitle": false,
     "title": ""
    }
   },
   "outputs": [],
   "source": [
    "from delta.tables import *\n",
    "DeltaTable.createOrReplace(spark)\\\n",
    "    .tableName(\"employee_demo\")\\\n",
    "    .addColumn('emp_id',\"INT\")\\\n",
    "    .addColumn('emp_name','STRING')\\\n",
    "    .addColumn('gender','STRING')\\\n",
    "    .addColumn('salary','INT')\\\n",
    "    .addColumn('Dept',\"STRING\")\\\n",
    "    .property('description','table created for demo purpose')\\\n",
    "    .location('/FileStore/tables/delta/createtable')\\\n",
    "    .execute()"
   ]
  },
  {
   "cell_type": "code",
   "execution_count": 0,
   "metadata": {
    "application/vnd.databricks.v1+cell": {
     "cellMetadata": {},
     "inputWidgets": {},
     "nuid": "4db86891-c6c6-4a21-80b0-3e27b73c6ac4",
     "showTitle": false,
     "title": ""
    }
   },
   "outputs": [],
   "source": [
    "%sql\n",
    "CREATE TABLE employee_demo (\n",
    "  emp_id INT,\n",
    "  emp_Name STRING,\n",
    "  gender STRING,\n",
    "  salary INT,\n",
    "  dept STRING,\n",
    ")USING DELTA"
   ]
  },
  {
   "cell_type": "code",
   "execution_count": 0,
   "metadata": {
    "application/vnd.databricks.v1+cell": {
     "cellMetadata": {},
     "inputWidgets": {},
     "nuid": "8095f845-c535-4298-846a-d5129f5ed640",
     "showTitle": false,
     "title": ""
    }
   },
   "outputs": [],
   "source": [
    "%sql\n",
    "CREATE TABLE IF NOT EXISTS employee_demo{\n",
    "  fd\n",
    "}"
   ]
  },
  {
   "cell_type": "code",
   "execution_count": 0,
   "metadata": {
    "application/vnd.databricks.v1+cell": {
     "cellMetadata": {
      "byteLimit": 2048000,
      "rowLimit": 10000
     },
     "inputWidgets": {},
     "nuid": "76dbda2c-28f5-438e-807b-f245e0d2fd9d",
     "showTitle": false,
     "title": ""
    }
   },
   "outputs": [
    {
     "output_type": "display_data",
     "data": {
      "text/html": [
       "<style scoped>\n",
       "  .table-result-container {\n",
       "    max-height: 300px;\n",
       "    overflow: auto;\n",
       "  }\n",
       "  table, th, td {\n",
       "    border: 1px solid black;\n",
       "    border-collapse: collapse;\n",
       "  }\n",
       "  th, td {\n",
       "    padding: 5px;\n",
       "  }\n",
       "  th {\n",
       "    text-align: left;\n",
       "  }\n",
       "</style><div class='table-result-container'><table class='table-result'><thead style='background-color: white'><tr><th>id</th><th>name</th><th>sex</th><th>salary</th><th>dept</th></tr></thead><tbody><tr><td>100</td><td>Stephen</td><td>M</td><td>2000</td><td>IT</td></tr><tr><td>200</td><td>kartik</td><td>M</td><td>8000</td><td>HR</td></tr><tr><td>300</td><td>pralhad</td><td>M</td><td>6000</td><td>SALES</td></tr></tbody></table></div>"
      ]
     },
     "metadata": {
      "application/vnd.databricks.v1+output": {
       "addedWidgets": {},
       "aggData": [],
       "aggError": "",
       "aggOverflow": false,
       "aggSchema": [],
       "aggSeriesLimitReached": false,
       "aggType": "",
       "arguments": {},
       "columnCustomDisplayInfos": {},
       "data": [
        [
         100,
         "Stephen",
         "M",
         "2000",
         "IT"
        ],
        [
         200,
         "kartik",
         "M",
         "8000",
         "HR"
        ],
        [
         300,
         "pralhad",
         "M",
         "6000",
         "SALES"
        ]
       ],
       "datasetInfos": [],
       "dbfsResultPath": null,
       "isJsonSchema": true,
       "metadata": {},
       "overflow": false,
       "plotOptions": {
        "customPlotOptions": {},
        "displayType": "table",
        "pivotAggregation": null,
        "pivotColumns": null,
        "xColumns": null,
        "yColumns": null
       },
       "removedWidgets": [],
       "schema": [
        {
         "metadata": "{}",
         "name": "id",
         "type": "\"integer\""
        },
        {
         "metadata": "{}",
         "name": "name",
         "type": "\"string\""
        },
        {
         "metadata": "{}",
         "name": "sex",
         "type": "\"string\""
        },
        {
         "metadata": "{}",
         "name": "salary",
         "type": "\"string\""
        },
        {
         "metadata": "{}",
         "name": "dept",
         "type": "\"string\""
        }
       ],
       "type": "table"
      }
     },
     "output_type": "display_data"
    }
   ],
   "source": [
    "from pyspark.sql.types import StringType,StructField,StructType,IntegerType\n",
    "employee_data = [\n",
    "    (100,'Stephen','M',2000,'IT'),\n",
    "    (200,'kartik','M',8000,\"HR\"),\n",
    "    (300,'pralhad','M',6000,\"SALES\")\n",
    "]\n",
    "schema = StructType([\n",
    "    StructField('id',IntegerType()),\n",
    "    StructField('name',StringType()),\n",
    "    StructField('sex',StringType()),\n",
    "    StructField('salary',StringType()),\n",
    "    StructField('dept',StringType())\n",
    "])\n",
    "\n",
    "df = spark.createDataFrame(data = employee_data,schema = schema)\n",
    "display(df)"
   ]
  },
  {
   "cell_type": "code",
   "execution_count": 0,
   "metadata": {
    "application/vnd.databricks.v1+cell": {
     "cellMetadata": {
      "byteLimit": 2048000,
      "rowLimit": 10000
     },
     "inputWidgets": {},
     "nuid": "a50c7a8b-953c-42fb-8a0b-6d8d6c0db8ee",
     "showTitle": false,
     "title": ""
    }
   },
   "outputs": [],
   "source": [
    "df.write.format('delta').saveAsTable('default.employee_demo1') "
   ]
  },
  {
   "cell_type": "code",
   "execution_count": 0,
   "metadata": {
    "application/vnd.databricks.v1+cell": {
     "cellMetadata": {
      "byteLimit": 2048000,
      "implicitDf": true,
      "rowLimit": 10000
     },
     "inputWidgets": {},
     "nuid": "bea84e3e-5a98-4258-9d50-485e24671688",
     "showTitle": false,
     "title": ""
    }
   },
   "outputs": [
    {
     "output_type": "display_data",
     "data": {
      "text/html": [
       "<style scoped>\n",
       "  .table-result-container {\n",
       "    max-height: 300px;\n",
       "    overflow: auto;\n",
       "  }\n",
       "  table, th, td {\n",
       "    border: 1px solid black;\n",
       "    border-collapse: collapse;\n",
       "  }\n",
       "  th, td {\n",
       "    padding: 5px;\n",
       "  }\n",
       "  th {\n",
       "    text-align: left;\n",
       "  }\n",
       "</style><div class='table-result-container'><table class='table-result'><thead style='background-color: white'><tr><th>id</th><th>name</th><th>sex</th><th>salary</th><th>dept</th></tr></thead><tbody><tr><td>300</td><td>pralhad</td><td>M</td><td>6000</td><td>SALES</td></tr><tr><td>100</td><td>Stephen</td><td>M</td><td>2000</td><td>IT</td></tr><tr><td>200</td><td>kartik</td><td>M</td><td>8000</td><td>HR</td></tr></tbody></table></div>"
      ]
     },
     "metadata": {
      "application/vnd.databricks.v1+output": {
       "addedWidgets": {},
       "aggData": [],
       "aggError": "",
       "aggOverflow": false,
       "aggSchema": [],
       "aggSeriesLimitReached": false,
       "aggType": "",
       "arguments": {},
       "columnCustomDisplayInfos": {},
       "data": [
        [
         300,
         "pralhad",
         "M",
         "6000",
         "SALES"
        ],
        [
         100,
         "Stephen",
         "M",
         "2000",
         "IT"
        ],
        [
         200,
         "kartik",
         "M",
         "8000",
         "HR"
        ]
       ],
       "datasetInfos": [],
       "dbfsResultPath": null,
       "isJsonSchema": true,
       "metadata": {},
       "overflow": false,
       "plotOptions": {
        "customPlotOptions": {},
        "displayType": "table",
        "pivotAggregation": null,
        "pivotColumns": null,
        "xColumns": null,
        "yColumns": null
       },
       "removedWidgets": [],
       "schema": [
        {
         "metadata": "{}",
         "name": "id",
         "type": "\"integer\""
        },
        {
         "metadata": "{}",
         "name": "name",
         "type": "\"string\""
        },
        {
         "metadata": "{}",
         "name": "sex",
         "type": "\"string\""
        },
        {
         "metadata": "{}",
         "name": "salary",
         "type": "\"string\""
        },
        {
         "metadata": "{}",
         "name": "dept",
         "type": "\"string\""
        }
       ],
       "type": "table"
      }
     },
     "output_type": "display_data"
    }
   ],
   "source": [
    "%sql\n",
    "select * from employee_demo1"
   ]
  },
  {
   "cell_type": "code",
   "execution_count": 0,
   "metadata": {
    "application/vnd.databricks.v1+cell": {
     "cellMetadata": {},
     "inputWidgets": {},
     "nuid": "9ee53b37-5a35-4d6b-a26a-a95ea2ac7e98",
     "showTitle": false,
     "title": ""
    }
   },
   "outputs": [],
   "source": []
  }
 ],
 "metadata": {
  "application/vnd.databricks.v1+notebook": {
   "dashboards": [],
   "language": "python",
   "notebookMetadata": {
    "mostRecentlyExecutedCommandWithImplicitDF": {
     "commandId": 3959888295478383,
     "dataframes": [
      "_sqldf"
     ]
    },
    "pythonIndentUnit": 4
   },
   "notebookName": "Delta_table",
   "widgets": {}
  }
 },
 "nbformat": 4,
 "nbformat_minor": 0
}
